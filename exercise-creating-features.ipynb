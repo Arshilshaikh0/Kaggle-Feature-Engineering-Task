{
 "cells": [
  {
   "cell_type": "markdown",
   "id": "d594ae49",
   "metadata": {
    "papermill": {
     "duration": 0.005082,
     "end_time": "2022-08-13T22:21:13.207754",
     "exception": false,
     "start_time": "2022-08-13T22:21:13.202672",
     "status": "completed"
    },
    "tags": []
   },
   "source": [
    "**This notebook is an exercise in the [Feature Engineering](https://www.kaggle.com/learn/feature-engineering) course.  You can reference the tutorial at [this link](https://www.kaggle.com/ryanholbrook/creating-features).**\n",
    "\n",
    "---\n"
   ]
  },
  {
   "cell_type": "markdown",
   "id": "61c3e3c8",
   "metadata": {
    "papermill": {
     "duration": 0.003884,
     "end_time": "2022-08-13T22:21:13.215922",
     "exception": false,
     "start_time": "2022-08-13T22:21:13.212038",
     "status": "completed"
    },
    "tags": []
   },
   "source": [
    "# Introduction #\n",
    "\n",
    "In this exercise you'll start developing the features you identified in Exercise 2 as having the most potential. As you work through this exercise, you might take a moment to look at the data documentation again and consider whether the features we're creating make sense from a real-world perspective, and whether there are any useful combinations that stand out to you.\n",
    "\n",
    "Run this cell to set everything up!"
   ]
  },
  {
   "cell_type": "code",
   "execution_count": 1,
   "id": "e2ea3115",
   "metadata": {
    "execution": {
     "iopub.execute_input": "2022-08-13T22:21:13.225657Z",
     "iopub.status.busy": "2022-08-13T22:21:13.225314Z",
     "iopub.status.idle": "2022-08-13T22:21:14.592602Z",
     "shell.execute_reply": "2022-08-13T22:21:14.591489Z"
    },
    "papermill": {
     "duration": 1.37473,
     "end_time": "2022-08-13T22:21:14.594778",
     "exception": false,
     "start_time": "2022-08-13T22:21:13.220048",
     "status": "completed"
    },
    "tags": []
   },
   "outputs": [],
   "source": [
    "# Setup feedback system\n",
    "from learntools.core import binder\n",
    "binder.bind(globals())\n",
    "from learntools.feature_engineering_new.ex3 import *\n",
    "\n",
    "import numpy as np\n",
    "import pandas as pd\n",
    "from sklearn.model_selection import cross_val_score\n",
    "from xgboost import XGBRegressor\n",
    "\n",
    "\n",
    "def score_dataset(X, y, model=XGBRegressor()):\n",
    "    # Label encoding for categoricals\n",
    "    for colname in X.select_dtypes([\"category\", \"object\"]):\n",
    "        X[colname], _ = X[colname].factorize()\n",
    "    # Metric for Housing competition is RMSLE (Root Mean Squared Log Error)\n",
    "    score = cross_val_score(\n",
    "        model, X, y, cv=5, scoring=\"neg_mean_squared_log_error\",\n",
    "    )\n",
    "    score = -1 * score.mean()\n",
    "    score = np.sqrt(score)\n",
    "    return score\n",
    "\n",
    "\n",
    "# Prepare data\n",
    "df = pd.read_csv(\"../input/fe-course-data/ames.csv\")\n",
    "X = df.copy()\n",
    "y = X.pop(\"SalePrice\")"
   ]
  },
  {
   "cell_type": "markdown",
   "id": "68834e08",
   "metadata": {
    "papermill": {
     "duration": 0.006188,
     "end_time": "2022-08-13T22:21:14.607246",
     "exception": false,
     "start_time": "2022-08-13T22:21:14.601058",
     "status": "completed"
    },
    "tags": []
   },
   "source": [
    "-------------------------------------------------------------------------------\n",
    "\n",
    "Let's start with a few mathematical combinations. We'll focus on features describing areas -- having the same units (square-feet) makes it easy to combine them in sensible ways. Since we're using XGBoost (a tree-based model), we'll focus on ratios and sums.\n",
    "\n",
    "# 1) Create Mathematical Transforms\n",
    "\n",
    "Create the following features:\n",
    "\n",
    "- `LivLotRatio`: the ratio of `GrLivArea` to `LotArea`\n",
    "- `Spaciousness`: the sum of `FirstFlrSF` and `SecondFlrSF` divided by `TotRmsAbvGrd`\n",
    "- `TotalOutsideSF`: the sum of `WoodDeckSF`, `OpenPorchSF`, `EnclosedPorch`, `Threeseasonporch`, and `ScreenPorch`"
   ]
  },
  {
   "cell_type": "code",
   "execution_count": 2,
   "id": "28c231f2",
   "metadata": {
    "execution": {
     "iopub.execute_input": "2022-08-13T22:21:14.619142Z",
     "iopub.status.busy": "2022-08-13T22:21:14.618127Z",
     "iopub.status.idle": "2022-08-13T22:21:14.642763Z",
     "shell.execute_reply": "2022-08-13T22:21:14.641651Z"
    },
    "lines_to_next_cell": 0,
    "papermill": {
     "duration": 0.033295,
     "end_time": "2022-08-13T22:21:14.645242",
     "exception": false,
     "start_time": "2022-08-13T22:21:14.611947",
     "status": "completed"
    },
    "tags": []
   },
   "outputs": [
    {
     "data": {
      "application/javascript": [
       "parent.postMessage({\"jupyterEvent\": \"custom.exercise_interaction\", \"data\": {\"outcomeType\": 1, \"valueTowardsCompletion\": 0.2, \"interactionType\": 1, \"questionType\": 2, \"questionId\": \"1_Q1\", \"learnToolsVersion\": \"0.3.4\", \"failureMessage\": \"\", \"exceptionClass\": \"\", \"trace\": \"\"}}, \"*\")"
      ],
      "text/plain": [
       "<IPython.core.display.Javascript object>"
      ]
     },
     "metadata": {},
     "output_type": "display_data"
    },
    {
     "data": {
      "text/markdown": [
       "<span style=\"color:#33cc33\">Correct</span>"
      ],
      "text/plain": [
       "Correct"
      ]
     },
     "metadata": {},
     "output_type": "display_data"
    }
   ],
   "source": [
    "# YOUR CODE HERE\n",
    "X_1 = pd.DataFrame()  # dataframe to hold new features\n",
    "\n",
    "X_1[\"LivLotRatio\"] = df.GrLivArea / df.LotArea\n",
    "X_1[\"Spaciousness\"] = (df.FirstFlrSF + df.SecondFlrSF) / df.TotRmsAbvGrd\n",
    "X_1[\"TotalOutsideSF\"] = df.WoodDeckSF + df.OpenPorchSF + df.EnclosedPorch + df.Threeseasonporch + df.ScreenPorch\n",
    "\n",
    "\n",
    "# Check your answer\n",
    "q_1.check()"
   ]
  },
  {
   "cell_type": "code",
   "execution_count": 3,
   "id": "4737f206",
   "metadata": {
    "execution": {
     "iopub.execute_input": "2022-08-13T22:21:14.656570Z",
     "iopub.status.busy": "2022-08-13T22:21:14.655891Z",
     "iopub.status.idle": "2022-08-13T22:21:14.660020Z",
     "shell.execute_reply": "2022-08-13T22:21:14.658886Z"
    },
    "lines_to_next_cell": 0,
    "papermill": {
     "duration": 0.011837,
     "end_time": "2022-08-13T22:21:14.662039",
     "exception": false,
     "start_time": "2022-08-13T22:21:14.650202",
     "status": "completed"
    },
    "tags": []
   },
   "outputs": [],
   "source": [
    "# Lines below will give you a hint or solution code\n",
    "#q_1.hint()\n",
    "#q_1.solution()"
   ]
  },
  {
   "cell_type": "markdown",
   "id": "50a4deed",
   "metadata": {
    "papermill": {
     "duration": 0.00476,
     "end_time": "2022-08-13T22:21:14.672272",
     "exception": false,
     "start_time": "2022-08-13T22:21:14.667512",
     "status": "completed"
    },
    "tags": []
   },
   "source": [
    "-------------------------------------------------------------------------------\n",
    "\n",
    "If you've discovered an interaction effect between a numeric feature and a categorical feature, you might want to model it explicitly using a one-hot encoding, like so:\n",
    "\n",
    "```\n",
    "# One-hot encode Categorical feature, adding a column prefix \"Cat\"\n",
    "X_new = pd.get_dummies(df.Categorical, prefix=\"Cat\")\n",
    "\n",
    "# Multiply row-by-row\n",
    "X_new = X_new.mul(df.Continuous, axis=0)\n",
    "\n",
    "# Join the new features to the feature set\n",
    "X = X.join(X_new)\n",
    "```\n",
    "\n",
    "# 2) Interaction with a Categorical\n",
    "\n",
    "We discovered an interaction between `BldgType` and `GrLivArea` in Exercise 2. Now create their interaction features."
   ]
  },
  {
   "cell_type": "code",
   "execution_count": 4,
   "id": "4e923e1d",
   "metadata": {
    "execution": {
     "iopub.execute_input": "2022-08-13T22:21:14.685571Z",
     "iopub.status.busy": "2022-08-13T22:21:14.684325Z",
     "iopub.status.idle": "2022-08-13T22:21:14.697694Z",
     "shell.execute_reply": "2022-08-13T22:21:14.696798Z"
    },
    "lines_to_next_cell": 0,
    "papermill": {
     "duration": 0.022503,
     "end_time": "2022-08-13T22:21:14.699601",
     "exception": false,
     "start_time": "2022-08-13T22:21:14.677098",
     "status": "completed"
    },
    "tags": []
   },
   "outputs": [
    {
     "data": {
      "application/javascript": [
       "parent.postMessage({\"jupyterEvent\": \"custom.exercise_interaction\", \"data\": {\"outcomeType\": 1, \"valueTowardsCompletion\": 0.2, \"interactionType\": 1, \"questionType\": 2, \"questionId\": \"2_Q2\", \"learnToolsVersion\": \"0.3.4\", \"failureMessage\": \"\", \"exceptionClass\": \"\", \"trace\": \"\"}}, \"*\")"
      ],
      "text/plain": [
       "<IPython.core.display.Javascript object>"
      ]
     },
     "metadata": {},
     "output_type": "display_data"
    },
    {
     "data": {
      "text/markdown": [
       "<span style=\"color:#33cc33\">Correct</span>"
      ],
      "text/plain": [
       "Correct"
      ]
     },
     "metadata": {},
     "output_type": "display_data"
    }
   ],
   "source": [
    "# YOUR CODE HERE\n",
    "# One-hot encode BldgType. Use `prefix=\"Bldg\"` in `get_dummies`\n",
    "X_2 = pd.get_dummies(df.BldgType, prefix=\"Bldg\") \n",
    "# Multiply\n",
    "X_2 = X_2.mul(df.GrLivArea, axis=0)\n",
    "\n",
    "\n",
    "# Check your answer\n",
    "q_2.check()"
   ]
  },
  {
   "cell_type": "code",
   "execution_count": 5,
   "id": "4bf817da",
   "metadata": {
    "execution": {
     "iopub.execute_input": "2022-08-13T22:21:14.710450Z",
     "iopub.status.busy": "2022-08-13T22:21:14.710156Z",
     "iopub.status.idle": "2022-08-13T22:21:14.713553Z",
     "shell.execute_reply": "2022-08-13T22:21:14.712736Z"
    },
    "lines_to_next_cell": 0,
    "papermill": {
     "duration": 0.010782,
     "end_time": "2022-08-13T22:21:14.715236",
     "exception": false,
     "start_time": "2022-08-13T22:21:14.704454",
     "status": "completed"
    },
    "tags": []
   },
   "outputs": [],
   "source": [
    "# Lines below will give you a hint or solution code\n",
    "#q_2.hint()\n",
    "#q_2.solution()"
   ]
  },
  {
   "cell_type": "markdown",
   "id": "5e1611d9",
   "metadata": {
    "lines_to_next_cell": 0,
    "papermill": {
     "duration": 0.004424,
     "end_time": "2022-08-13T22:21:14.724493",
     "exception": false,
     "start_time": "2022-08-13T22:21:14.720069",
     "status": "completed"
    },
    "tags": []
   },
   "source": [
    "# 3) Count Feature\n",
    "\n",
    "Let's try creating a feature that describes how many kinds of outdoor areas a dwelling has. Create a feature `PorchTypes` that counts how many of the following are greater than 0.0:\n",
    "\n",
    "```\n",
    "WoodDeckSF\n",
    "OpenPorchSF\n",
    "EnclosedPorch\n",
    "Threeseasonporch\n",
    "ScreenPorch\n",
    "```"
   ]
  },
  {
   "cell_type": "code",
   "execution_count": 6,
   "id": "79775585",
   "metadata": {
    "execution": {
     "iopub.execute_input": "2022-08-13T22:21:14.734802Z",
     "iopub.status.busy": "2022-08-13T22:21:14.734520Z",
     "iopub.status.idle": "2022-08-13T22:21:14.749488Z",
     "shell.execute_reply": "2022-08-13T22:21:14.748415Z"
    },
    "lines_to_next_cell": 0,
    "papermill": {
     "duration": 0.02257,
     "end_time": "2022-08-13T22:21:14.751525",
     "exception": false,
     "start_time": "2022-08-13T22:21:14.728955",
     "status": "completed"
    },
    "tags": []
   },
   "outputs": [
    {
     "data": {
      "application/javascript": [
       "parent.postMessage({\"jupyterEvent\": \"custom.exercise_interaction\", \"data\": {\"outcomeType\": 1, \"valueTowardsCompletion\": 0.2, \"interactionType\": 1, \"questionType\": 2, \"questionId\": \"3_Q3\", \"learnToolsVersion\": \"0.3.4\", \"failureMessage\": \"\", \"exceptionClass\": \"\", \"trace\": \"\"}}, \"*\")"
      ],
      "text/plain": [
       "<IPython.core.display.Javascript object>"
      ]
     },
     "metadata": {},
     "output_type": "display_data"
    },
    {
     "data": {
      "text/markdown": [
       "<span style=\"color:#33cc33\">Correct</span>"
      ],
      "text/plain": [
       "Correct"
      ]
     },
     "metadata": {},
     "output_type": "display_data"
    }
   ],
   "source": [
    "X_3 = pd.DataFrame()\n",
    "\n",
    "# YOUR CODE HERE\n",
    "X_3[\"PorchTypes\"] = df[[\"WoodDeckSF\",\"OpenPorchSF\",\"EnclosedPorch\",\"Threeseasonporch\",\"ScreenPorch\",]].gt(0.0).sum(axis=1)\n",
    "\n",
    "\n",
    "# Check your answer\n",
    "q_3.check()"
   ]
  },
  {
   "cell_type": "code",
   "execution_count": 7,
   "id": "bbaef834",
   "metadata": {
    "execution": {
     "iopub.execute_input": "2022-08-13T22:21:14.762739Z",
     "iopub.status.busy": "2022-08-13T22:21:14.762450Z",
     "iopub.status.idle": "2022-08-13T22:21:14.767048Z",
     "shell.execute_reply": "2022-08-13T22:21:14.765874Z"
    },
    "lines_to_next_cell": 0,
    "papermill": {
     "duration": 0.012234,
     "end_time": "2022-08-13T22:21:14.768935",
     "exception": false,
     "start_time": "2022-08-13T22:21:14.756701",
     "status": "completed"
    },
    "tags": []
   },
   "outputs": [],
   "source": [
    "# Lines below will give you a hint or solution code\n",
    "#q_3.hint()\n",
    "#q_3.solution()"
   ]
  },
  {
   "cell_type": "markdown",
   "id": "c6d03c87",
   "metadata": {
    "papermill": {
     "duration": 0.004753,
     "end_time": "2022-08-13T22:21:14.778746",
     "exception": false,
     "start_time": "2022-08-13T22:21:14.773993",
     "status": "completed"
    },
    "tags": []
   },
   "source": [
    "# 4) Break Down a Categorical Feature\n",
    "\n",
    "`MSSubClass` describes the type of a dwelling:"
   ]
  },
  {
   "cell_type": "code",
   "execution_count": 8,
   "id": "b74950f9",
   "metadata": {
    "execution": {
     "iopub.execute_input": "2022-08-13T22:21:14.792187Z",
     "iopub.status.busy": "2022-08-13T22:21:14.791667Z",
     "iopub.status.idle": "2022-08-13T22:21:14.799295Z",
     "shell.execute_reply": "2022-08-13T22:21:14.798162Z"
    },
    "papermill": {
     "duration": 0.016716,
     "end_time": "2022-08-13T22:21:14.801051",
     "exception": false,
     "start_time": "2022-08-13T22:21:14.784335",
     "status": "completed"
    },
    "tags": []
   },
   "outputs": [
    {
     "data": {
      "text/plain": [
       "array(['One_Story_1946_and_Newer_All_Styles', 'Two_Story_1946_and_Newer',\n",
       "       'One_Story_PUD_1946_and_Newer',\n",
       "       'One_and_Half_Story_Finished_All_Ages', 'Split_Foyer',\n",
       "       'Two_Story_PUD_1946_and_Newer', 'Split_or_Multilevel',\n",
       "       'One_Story_1945_and_Older', 'Duplex_All_Styles_and_Ages',\n",
       "       'Two_Family_conversion_All_Styles_and_Ages',\n",
       "       'One_and_Half_Story_Unfinished_All_Ages',\n",
       "       'Two_Story_1945_and_Older', 'Two_and_Half_Story_All_Ages',\n",
       "       'One_Story_with_Finished_Attic_All_Ages',\n",
       "       'PUD_Multilevel_Split_Level_Foyer',\n",
       "       'One_and_Half_Story_PUD_All_Ages'], dtype=object)"
      ]
     },
     "execution_count": 8,
     "metadata": {},
     "output_type": "execute_result"
    }
   ],
   "source": [
    "df.MSSubClass.unique()"
   ]
  },
  {
   "cell_type": "markdown",
   "id": "b74e1419",
   "metadata": {
    "papermill": {
     "duration": 0.004934,
     "end_time": "2022-08-13T22:21:14.811161",
     "exception": false,
     "start_time": "2022-08-13T22:21:14.806227",
     "status": "completed"
    },
    "tags": []
   },
   "source": [
    "You can see that there is a more general categorization described (roughly) by the first word of each category. Create a feature containing only these first words by splitting `MSSubClass` at the first underscore `_`. (Hint: In the `split` method use an argument `n=1`.)"
   ]
  },
  {
   "cell_type": "code",
   "execution_count": 9,
   "id": "f5922428",
   "metadata": {
    "execution": {
     "iopub.execute_input": "2022-08-13T22:21:14.827636Z",
     "iopub.status.busy": "2022-08-13T22:21:14.827318Z",
     "iopub.status.idle": "2022-08-13T22:21:14.846286Z",
     "shell.execute_reply": "2022-08-13T22:21:14.845683Z"
    },
    "lines_to_next_cell": 0,
    "papermill": {
     "duration": 0.030181,
     "end_time": "2022-08-13T22:21:14.848505",
     "exception": false,
     "start_time": "2022-08-13T22:21:14.818324",
     "status": "completed"
    },
    "tags": []
   },
   "outputs": [
    {
     "data": {
      "application/javascript": [
       "parent.postMessage({\"jupyterEvent\": \"custom.exercise_interaction\", \"data\": {\"outcomeType\": 1, \"valueTowardsCompletion\": 0.2, \"interactionType\": 1, \"questionType\": 2, \"questionId\": \"4_Q4\", \"learnToolsVersion\": \"0.3.4\", \"failureMessage\": \"\", \"exceptionClass\": \"\", \"trace\": \"\"}}, \"*\")"
      ],
      "text/plain": [
       "<IPython.core.display.Javascript object>"
      ]
     },
     "metadata": {},
     "output_type": "display_data"
    },
    {
     "data": {
      "text/markdown": [
       "<span style=\"color:#33cc33\">Correct</span>"
      ],
      "text/plain": [
       "Correct"
      ]
     },
     "metadata": {},
     "output_type": "display_data"
    }
   ],
   "source": [
    "X_4 = pd.DataFrame()\n",
    "\n",
    "# YOUR CODE HERE\n",
    "X_4[\"MSClass\"] = df.MSSubClass.str.split(\"_\", n=1, expand=True)[0]\n",
    "\n",
    "\n",
    "# Check your answer\n",
    "q_4.check()"
   ]
  },
  {
   "cell_type": "code",
   "execution_count": 10,
   "id": "1cfcc70b",
   "metadata": {
    "execution": {
     "iopub.execute_input": "2022-08-13T22:21:14.864277Z",
     "iopub.status.busy": "2022-08-13T22:21:14.863931Z",
     "iopub.status.idle": "2022-08-13T22:21:14.867242Z",
     "shell.execute_reply": "2022-08-13T22:21:14.866599Z"
    },
    "lines_to_next_cell": 0,
    "papermill": {
     "duration": 0.012981,
     "end_time": "2022-08-13T22:21:14.868873",
     "exception": false,
     "start_time": "2022-08-13T22:21:14.855892",
     "status": "completed"
    },
    "tags": []
   },
   "outputs": [],
   "source": [
    "# Lines below will give you a hint or solution code\n",
    "#q_4.hint()\n",
    "#q_4.solution()"
   ]
  },
  {
   "cell_type": "markdown",
   "id": "faa0d50d",
   "metadata": {
    "papermill": {
     "duration": 0.005009,
     "end_time": "2022-08-13T22:21:14.879372",
     "exception": false,
     "start_time": "2022-08-13T22:21:14.874363",
     "status": "completed"
    },
    "tags": []
   },
   "source": [
    "# 5) Use a Grouped Transform\n",
    "\n",
    "The value of a home often depends on how it compares to typical homes in its neighborhood. Create a feature `MedNhbdArea` that describes the *median* of `GrLivArea` grouped on `Neighborhood`."
   ]
  },
  {
   "cell_type": "code",
   "execution_count": 11,
   "id": "466764c7",
   "metadata": {
    "execution": {
     "iopub.execute_input": "2022-08-13T22:21:14.891168Z",
     "iopub.status.busy": "2022-08-13T22:21:14.890784Z",
     "iopub.status.idle": "2022-08-13T22:21:14.904633Z",
     "shell.execute_reply": "2022-08-13T22:21:14.904053Z"
    },
    "lines_to_next_cell": 0,
    "papermill": {
     "duration": 0.021825,
     "end_time": "2022-08-13T22:21:14.906248",
     "exception": false,
     "start_time": "2022-08-13T22:21:14.884423",
     "status": "completed"
    },
    "tags": []
   },
   "outputs": [
    {
     "data": {
      "application/javascript": [
       "parent.postMessage({\"jupyterEvent\": \"custom.exercise_interaction\", \"data\": {\"outcomeType\": 1, \"valueTowardsCompletion\": 0.2, \"interactionType\": 1, \"questionType\": 2, \"questionId\": \"5_Q5\", \"learnToolsVersion\": \"0.3.4\", \"failureMessage\": \"\", \"exceptionClass\": \"\", \"trace\": \"\"}}, \"*\")"
      ],
      "text/plain": [
       "<IPython.core.display.Javascript object>"
      ]
     },
     "metadata": {},
     "output_type": "display_data"
    },
    {
     "data": {
      "text/markdown": [
       "<span style=\"color:#33cc33\">Correct</span>"
      ],
      "text/plain": [
       "Correct"
      ]
     },
     "metadata": {},
     "output_type": "display_data"
    }
   ],
   "source": [
    "X_5 = pd.DataFrame()\n",
    "\n",
    "# YOUR CODE HERE\n",
    "X_5[\"MedNhbdArea\"] = df.groupby(\"Neighborhood\")[\"GrLivArea\"].transform(\"median\")\n",
    "\n",
    "# Check your answer\n",
    "q_5.check()"
   ]
  },
  {
   "cell_type": "code",
   "execution_count": 12,
   "id": "471d1757",
   "metadata": {
    "execution": {
     "iopub.execute_input": "2022-08-13T22:21:14.919026Z",
     "iopub.status.busy": "2022-08-13T22:21:14.918725Z",
     "iopub.status.idle": "2022-08-13T22:21:14.921496Z",
     "shell.execute_reply": "2022-08-13T22:21:14.921017Z"
    },
    "lines_to_next_cell": 0,
    "papermill": {
     "duration": 0.010977,
     "end_time": "2022-08-13T22:21:14.923023",
     "exception": false,
     "start_time": "2022-08-13T22:21:14.912046",
     "status": "completed"
    },
    "tags": []
   },
   "outputs": [],
   "source": [
    "# Lines below will give you a hint or solution code\n",
    "#q_5.hint()\n",
    "#q_5.solution()"
   ]
  },
  {
   "cell_type": "markdown",
   "id": "946021dd",
   "metadata": {
    "papermill": {
     "duration": 0.005472,
     "end_time": "2022-08-13T22:21:14.934191",
     "exception": false,
     "start_time": "2022-08-13T22:21:14.928719",
     "status": "completed"
    },
    "tags": []
   },
   "source": [
    "Now you've made your first new feature set! If you like, you can run the cell below to score the model with all of your new features added:"
   ]
  },
  {
   "cell_type": "code",
   "execution_count": 13,
   "id": "e312073d",
   "metadata": {
    "execution": {
     "iopub.execute_input": "2022-08-13T22:21:14.946660Z",
     "iopub.status.busy": "2022-08-13T22:21:14.946174Z",
     "iopub.status.idle": "2022-08-13T22:21:18.795308Z",
     "shell.execute_reply": "2022-08-13T22:21:18.794634Z"
    },
    "papermill": {
     "duration": 3.857569,
     "end_time": "2022-08-13T22:21:18.797093",
     "exception": false,
     "start_time": "2022-08-13T22:21:14.939524",
     "status": "completed"
    },
    "tags": []
   },
   "outputs": [
    {
     "data": {
      "text/plain": [
       "0.13847331710099203"
      ]
     },
     "execution_count": 13,
     "metadata": {},
     "output_type": "execute_result"
    }
   ],
   "source": [
    "X_new = X.join([X_1, X_2, X_3, X_4, X_5])\n",
    "score_dataset(X_new, y)"
   ]
  },
  {
   "cell_type": "markdown",
   "id": "1bec906e",
   "metadata": {
    "papermill": {
     "duration": 0.005865,
     "end_time": "2022-08-13T22:21:18.810466",
     "exception": false,
     "start_time": "2022-08-13T22:21:18.804601",
     "status": "completed"
    },
    "tags": []
   },
   "source": [
    "# Keep Going #\n",
    "\n",
    "[**Untangle spatial relationships**](https://www.kaggle.com/ryanholbrook/clustering-with-k-means) by adding cluster labels to your dataset."
   ]
  },
  {
   "cell_type": "markdown",
   "id": "0a2296e7",
   "metadata": {
    "papermill": {
     "duration": 0.005379,
     "end_time": "2022-08-13T22:21:18.821738",
     "exception": false,
     "start_time": "2022-08-13T22:21:18.816359",
     "status": "completed"
    },
    "tags": []
   },
   "source": [
    "---\n",
    "\n",
    "\n",
    "\n",
    "\n",
    "*Have questions or comments? Visit the [course discussion forum](https://www.kaggle.com/learn/feature-engineering/discussion) to chat with other learners.*"
   ]
  }
 ],
 "metadata": {
  "kernelspec": {
   "display_name": "Python 3",
   "language": "python",
   "name": "python3"
  },
  "language_info": {
   "codemirror_mode": {
    "name": "ipython",
    "version": 3
   },
   "file_extension": ".py",
   "mimetype": "text/x-python",
   "name": "python",
   "nbconvert_exporter": "python",
   "pygments_lexer": "ipython3",
   "version": "3.7.12"
  },
  "papermill": {
   "default_parameters": {},
   "duration": 13.978472,
   "end_time": "2022-08-13T22:21:19.447615",
   "environment_variables": {},
   "exception": null,
   "input_path": "__notebook__.ipynb",
   "output_path": "__notebook__.ipynb",
   "parameters": {},
   "start_time": "2022-08-13T22:21:05.469143",
   "version": "2.3.4"
  }
 },
 "nbformat": 4,
 "nbformat_minor": 5
}
